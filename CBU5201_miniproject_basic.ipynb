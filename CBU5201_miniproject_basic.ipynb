{
 "cells": [
  {
   "cell_type": "markdown",
   "metadata": {},
   "source": [
    "# CBU5201 miniproject basic task\n",
    "\n"
   ]
  },
  {
   "cell_type": "markdown",
   "metadata": {},
   "source": [
    "## 1 Author\n",
    "\n",
    "**Student Name**: Chenhui Qiu\n",
    "\n",
    "**QMID**: 210981508"
   ]
  },
  {
   "cell_type": "markdown",
   "metadata": {},
   "source": [
    "## 2 Problem formulation\n",
    "\n",
    "#### 2.1 Smile Detection (Task 1)\n",
    "In Task 1, the objective is to develop a machine learning model capable of detecting smiles in images.  Smile detection has practical applications in areas like emotion recognition, human-computer interaction, and even in enhancing customer experiences in various service industries. \n",
    "\n",
    "#### 2.2 Head Pose Estimation (Task 2)\n",
    "Task 2 focuses on estimating the head pose of individuals in images, specifically by determining three angles: yaw, pitch, and roll. This problem is significant in fields such as augmented reality, driver monitoring systems, and facial recognition technologies. "
   ]
  },
  {
   "cell_type": "markdown",
   "metadata": {},
   "source": [
    "\n",
    "## 3 Machine Learning Pipeline\n",
    "\n",
    "Our project's Machine Learning pipeline is designed to handle two interconnected tasks: Smile Detection and Head Pose Estimation, both utilizing the Genki4K dataset. Here's a unified overview of the pipeline stages for these tasks:\n",
    "\n",
    "### 1. Input\n",
    "\n",
    "The input stage involves sourcing a diverse collection of facial images from the Genki4K dataset. These images encompass a wide range of facial expressions and orientations, providing a rich dataset for our tasks.\n",
    "\n",
    "### 2. Preprocessing\n",
    "\n",
    "- **Face Detection**: Each image undergoes preprocessing using the Multi-task Cascaded Convolutional Networks (MTCNN). This process involves detecting faces within the images and cropping to focus on the facial regions.\n",
    "- **Normalization**: The cropped facial images are resized and normalized to ensure uniformity and compatibility with the neural network models.\n",
    "\n",
    "### 3. Model Training\n",
    "\n",
    "- **Smile Detection**: For detecting smiles, we adapt the ResNet-18 model for binary classification. This model learns to differentiate between smiling and non-smiling faces.\n",
    "- **Head Pose Estimation**: The same ResNet-18 architecture, with slight modifications, is used for predicting head pose. It estimates three continuous values: yaw, pitch, and roll angles, representing the head's orientation.\n",
    "\n",
    "### 4. Evaluation\n",
    "\n",
    "- **Smile Detection**: We assess the model's accuracy in identifying smiles. This involves testing the model on a separate set of images and calculating the percentage of correctly identified smiles.\n",
    "- **Head Pose Estimation**: The model's precision in estimating head poses is evaluated using Mean Squared Error (MSE), Mean Absolute Error (MAE), and Root Mean Squared Error (RMSE) metrics. These metrics quantify the model's performance in accurately predicting head orientations.\n",
    "\n",
    "If finding that the effect is not good or overfitting occurs during the verification phase, we need to make certain adjustments to the hyperparameters of the model and loss function, and test multiple algorithms and models if possible, and return to the training phase. continue to optimize.\n",
    "\n",
    "### 5. Output\n",
    "\n",
    "- **Smile Detection Model**: Capable of accurately distinguishing smiles in various facial images.\n",
    "- **Head Pose Estimation Model**: Efficient in predicting the orientation of a head in terms of yaw, pitch, and roll angles."
   ]
  },
  {
   "cell_type": "markdown",
   "metadata": {},
   "source": [
    "## 4 Dataset\n",
    "\n",
    "\n",
    "The primary dataset used in this project is the \"Genki4K,\" a comprehensive collection of facial images. This dataset is known for its diversity in facial expressions and orientations.\n",
    "\n",
    "### Preprocessing with MTCNN\n",
    "\n",
    "- **Why MTCNN**: MTCNN (Multi-task Cascaded Convolutional Networks) is a highly effective method for face detection, particularly adept at handling different scales of faces within images. It's chosen for its accuracy in isolating faces from complex backgrounds , which is critical for consistent model training.\n",
    "- **Process**: MTCNN detects facial landmarks (like eyes, nose, and mouth) and crops the faces. This step ensures that the models focus on relevant facial features without background distractions.\n",
    "- **Outcome**: Post MTCNN processing, images are saved in the `processed_files` directory, providing a clean, uniform set of images for further processing.\n",
    "\n"
   ]
  },
  {
   "cell_type": "code",
   "execution_count": 193,
   "metadata": {},
   "outputs": [
    {
     "name": "stderr",
     "output_type": "stream",
     "text": [
      "Processing Images: 100%|██████████| 4000/4000 [01:37<00:00, 41.06it/s]\n"
     ]
    }
   ],
   "source": [
    "import os\n",
    "import torch\n",
    "from torchvision.transforms.functional import to_pil_image\n",
    "from tqdm import tqdm\n",
    "from PIL import Image\n",
    "from facenet_pytorch import MTCNN\n",
    "\n",
    "device = torch.device('cuda' if torch.cuda.is_available() else 'cpu')\n",
    "\n",
    "# initialize MTCNN\n",
    "mtcnn = MTCNN(keep_all=False, device=device, image_size=128, margin=30)\n",
    "original_img_dir = 'genki4k/files'  \n",
    "processed_img_dir = 'genki4k/processed_files'  \n",
    "\n",
    "# create processed image dir\n",
    "if not os.path.exists(processed_img_dir):\n",
    "    os.makedirs(processed_img_dir)\n",
    "\n",
    "\n",
    "processed_images = []\n",
    "\n",
    "for img_file in tqdm(os.listdir(original_img_dir), desc=\"Processing Images\"):\n",
    "    img_path = os.path.join(original_img_dir, img_file)\n",
    "    img = Image.open(img_path).convert('RGB')\n",
    "    img_cropped = mtcnn(img)\n",
    "    if img_cropped is not None:\n",
    "        img_cropped_pil = to_pil_image(img_cropped)  \n",
    "        processed_img_path = os.path.join(processed_img_dir, img_file)\n",
    "        img_cropped_pil.save(processed_img_path)  \n",
    "        processed_images.append(img_file)\n"
   ]
  },
  {
   "cell_type": "markdown",
   "metadata": {},
   "source": [
    "## 5 Transformation Stage\n",
    "\n",
    " This stage involves adapting the input data to a format suitable for efficient processing by deep learning models.\n",
    "\n",
    "### Input\n",
    "\n",
    "The input to this stage comprises face images, which have already been pre-processed using the MTCNN. \n",
    "\n",
    "### Output\n",
    "\n",
    "The output of the transformation stage is a set of tensorized and normalized images. These tensors are ready for consumption by the deep learning models, enabling them to learn from the data efficiently.\n",
    "\n",
    "### Process and Rationale\n",
    "\n",
    "1. **Tensor Transformation**: Each image is converted into a tensor, which is the standard format for images in PyTorch-based deep learning models. This transformation facilitates efficient computation and is particularly suitable for GPU-based training.\n",
    "\n",
    "2. **Normalization**: The images are normalized using the mean and standard deviation of the ImageNet dataset. This step is crucial for models pre-trained on ImageNet, as it aligns the new input data with the data distribution seen during the model's initial training. After many standardized parameter adjustments, these parameters in the code were selected. Normalization ensures consistent scale and variance, leading to better model performance and faster convergence during training.\n",
    "\n",
    "**More importantly, after testing, it was found that the values and changes of the three amplitude parameters in Task 2 were small. In order to prevent the gradient descent from being too difficult, the three labels were enlarged ten times, so in the curve The loss will appear higher on the graph, two orders of magnitude higher than the normal loss. The indicators will be restored during the evaluation phase.**"
   ]
  },
  {
   "cell_type": "code",
   "execution_count": 194,
   "metadata": {},
   "outputs": [],
   "source": [
    "import torchvision.transforms as transforms\n",
    "from torch.utils.data import DataLoader, Dataset, random_split\n",
    "from torch.utils.data.dataloader import default_collate\n",
    "\n",
    "# dataset for Task1\n",
    "class MyDataset_T1(Dataset):\n",
    "    def __init__(self, processed_img_dir, label_file, transform=None):\n",
    "        self.img_dir = processed_img_dir\n",
    "        self.transform = transform\n",
    "        self.labels = []\n",
    "        with open(label_file, 'r') as f:\n",
    "            for line in f:\n",
    "                line = line.strip().split()\n",
    "                img_name = f\"file{int(line[0])+1:04d}.jpg\"\n",
    "                if img_name in processed_images:\n",
    "                    self.labels.append(line)\n",
    "\n",
    "    def __len__(self):\n",
    "        return len(self.labels)\n",
    "\n",
    "    def __getitem__(self, idx):\n",
    "        img_name = f'file{idx+1:04d}.jpg'\n",
    "        img_path = os.path.join(self.img_dir, img_name)\n",
    "\n",
    "        if not os.path.exists(img_path):\n",
    "            return None\n",
    "\n",
    "        image = Image.open(img_path) \n",
    "\n",
    "        if self.transform:\n",
    "            image = self.transform(image)\n",
    "\n",
    "        smile_label, yaw, pitch, roll = self.labels[idx]\n",
    "        return image, torch.tensor(int(smile_label), dtype=torch.float32)\n",
    "\n",
    "# dataset for Task2\n",
    "class MyDataset_T2(Dataset):\n",
    "    def __init__(self, processed_img_dir, label_file, transform=None):\n",
    "        self.img_dir = processed_img_dir\n",
    "        self.transform = transform\n",
    "        self.labels = []\n",
    "        with open(label_file, 'r') as f:\n",
    "            for line in f:\n",
    "                line = line.strip().split()\n",
    "                img_name = f\"file{int(line[0])+1:04d}.jpg\"\n",
    "                if img_name in processed_images:\n",
    "                    self.labels.append(line)\n",
    "\n",
    "    def __len__(self):\n",
    "        return len(self.labels)\n",
    "\n",
    "    def __getitem__(self, idx):\n",
    "        img_name = f'file{idx+1:04d}.jpg'\n",
    "        img_path = os.path.join(self.img_dir, img_name)\n",
    "\n",
    "        if not os.path.exists(img_path):\n",
    "            return None\n",
    "\n",
    "        image = Image.open(img_path)  \n",
    "\n",
    "        if self.transform:\n",
    "            image = self.transform(image)\n",
    "\n",
    "        smile_label, yaw, pitch, roll = self.labels[idx]\n",
    "        pose_label = torch.tensor([float(yaw)*10, float(pitch)*10, float(roll)*10], dtype=torch.float32)\n",
    "        return image, pose_label\n",
    "\n",
    "def collate_fn(batch):\n",
    "    batch = [b for b in batch if b is not None]\n",
    "    if len(batch) == 0:\n",
    "        return torch.Tensor(), torch.Tensor()\n",
    "    return default_collate(batch)\n",
    " \n",
    "\n",
    "transform = transforms.Compose([\n",
    "    transforms.ToTensor(),\n",
    "    transforms.Normalize(mean=[0.485, 0.456, 0.406], std=[0.229, 0.224, 0.225])\n",
    "])\n"
   ]
  },
  {
   "cell_type": "markdown",
   "metadata": {},
   "source": [
    "\n",
    "## 6 Modelling\n",
    "\n",
    " We propose a unified approach using a single model architecture, the ResNet-18, to address both tasks efficiently. The ResNet-18 model is selected for its balance between performance and computational efficiency.\n",
    "\n",
    "The core of our approach is a ResNet-18 model, a deep convolutional neural network known for its effectiveness in image classification tasks. The model is pre-trained on the ImageNet dataset, allowing us to leverage a rich feature representation learned from a vast and diverse set of images.\n",
    "\n",
    "**After multiple tests, it was found that the effect of this model with pre-trained weights was significantly higher than that without. However, using a model with pre-trained weights will lead to a rapid entry into the optimal phase leading to a certain degree of overfitting. After a trade-off, it is still chosen to use a model with pre-trained weights to achieve higher accuracy.**\n",
    "\n",
    "- **Smile Detection**: For the smile detection task, which is a binary classification problem, the model's final fully connected layer will be adjusted to output a single neuron with a sigmoid activation function. This output represents the probability of the presence of a smile in the image.\n",
    "- **Head Pose Estimation**: In parallel, for the head pose estimation task, the same model will be employed to predict the continuous values of yaw, pitch, and roll angles. This requires modifying the final layer to output three neurons, each representing one of these angles.\n",
    "\n"
   ]
  },
  {
   "cell_type": "code",
   "execution_count": 195,
   "metadata": {},
   "outputs": [],
   "source": [
    "import torch.nn as nn\n",
    "import torchvision.models as models\n",
    "from torchvision.models import ResNet18_Weights\n",
    "\n",
    "model = models.resnet18(weights=ResNet18_Weights.DEFAULT)\n",
    "pre_fc_in_features = model.fc.in_features\n",
    "model.fc = nn.Sequential(\n",
    "    nn.Linear(pre_fc_in_features, 512),\n",
    "    nn.GELU(),\n",
    "    nn.Dropout(0.5),\n",
    "    nn.Linear(512, 1)\n",
    ")\n",
    "model = model.to(device)  \n",
    "\n",
    "model2 = models.resnet18(weights=ResNet18_Weights.DEFAULT)\n",
    "pre_fc_in_features2 = model2.fc.in_features\n",
    "model2.fc = nn.Sequential(\n",
    "    nn.Linear(pre_fc_in_features2, 512),\n",
    "    nn.GELU(),\n",
    "    nn.Dropout(0.5),\n",
    "    nn.Linear(512, 3)  # output yaw, pitch, roll\n",
    ")\n",
    "model2 = model2.to(device)"
   ]
  },
  {
   "cell_type": "markdown",
   "metadata": {},
   "source": [
    "\n",
    "## 7 Methodology\n",
    "\n",
    "### Training Strategy for Task 1 (Smile Detection)\n",
    "\n",
    "1. **Loss Function**: Binary Cross-Entropy Loss is used, suitable for the binary nature of smile detection.\n",
    "\n",
    "2. **Optimizer**: Adam optimizer with an initial learning rate of 0.0014, The L2 regularization parameter is 1e-5.\n",
    "\n",
    "3. **Scheduler**: Learning rate is reduced by 25% every 3 epochs to refine learning.\n",
    "\n",
    "### Training Strategy for Task 2 (Head Pose Estimation)\n",
    "\n",
    "1. **Loss Function**: Mean Squared Error (MSE) Loss quantifies the error in angle prediction.\n",
    "\n",
    "2. **Optimizer**: Adam optimizer with an initial learning rate of 0.001, The L2 regularization parameter is 1e-5.\n",
    "\n",
    "### Evaluation During Training\n",
    "\n",
    "1. **Dataset Split**: The dataset is divided into training, validation, and testing sets, following a 70%-15%-15% split. This division allows for robust training and fair evaluation.\n",
    "\n",
    "2. **Model Validation**: During the training phase, the model's performance is validated after each epoch using the validation set. This step is crucial to monitor the model’s learning and to make adjustments to prevent overfitting.\n",
    "\n",
    "3. **Performance Metrics**: \n",
    "   - For smile detection, we primarily focus on accuracy and periodically check the confusion matrix.\n",
    "   - For head pose estimation, we evaluate the training progress using Mean Squared Error (MSE).\n",
    "\n",
    "4. **Visualization**: Training and validation loss graphs are plotted to assess learning progression.\n"
   ]
  },
  {
   "cell_type": "code",
   "execution_count": 196,
   "metadata": {},
   "outputs": [],
   "source": [
    "# load dataset\n",
    "dataset_T1 = MyDataset_T1(processed_img_dir='genki4k/processed_files', \n",
    "                    label_file='genki4k/labels.txt', \n",
    "                    transform=transform)\n",
    "\n",
    "dataset_T2 = MyDataset_T2(processed_img_dir='genki4k/processed_files', \n",
    "                    label_file='genki4k/labels.txt', \n",
    "                    transform=transform)\n",
    "\n",
    "# divide the dataset\n",
    "train_size = int(0.8 * len(dataset_T1))\n",
    "valid_size = int(0.1 * len(dataset_T1))\n",
    "test_size = len(dataset_T1) - train_size - valid_size\n",
    "\n",
    "train_dataset_T1, valid_dataset_T1, test_dataset_T1 = random_split(dataset_T1, [train_size, valid_size, test_size])\n",
    "train_dataset_T2, valid_dataset_T2, test_dataset_T2 = random_split(dataset_T2, [train_size, valid_size, test_size])\n",
    "\n",
    "# DataLoader and batch size\n",
    "batch_size = 256  \n",
    "train_loader_T1 = DataLoader(train_dataset_T1, batch_size=batch_size, shuffle=True, collate_fn=collate_fn)\n",
    "valid_loader_T1 = DataLoader(valid_dataset_T1, batch_size=batch_size, shuffle=False, collate_fn=collate_fn)\n",
    "test_loader_T1 = DataLoader(test_dataset_T1, batch_size=batch_size, shuffle=False, collate_fn=collate_fn)\n",
    "\n",
    "train_loader_T2 = DataLoader(train_dataset_T2, batch_size=batch_size, shuffle=True, collate_fn=collate_fn)\n",
    "valid_loader_T2 = DataLoader(valid_dataset_T2, batch_size=batch_size, shuffle=False, collate_fn=collate_fn)\n",
    "test_loader_T2 = DataLoader(test_dataset_T2, batch_size=batch_size, shuffle=False, collate_fn=collate_fn)\n",
    "\n",
    "criterion_T1 = torch.nn.BCEWithLogitsLoss() \n",
    "optimizer_T1 = torch.optim.Adam(model.parameters(), lr=0.0014,  weight_decay=1e-5)\n",
    "scheduler = torch.optim.lr_scheduler.StepLR(optimizer_T1, step_size=3, gamma=0.75)\n",
    "\n",
    "criterion_T2 = torch.nn.MSELoss()  \n",
    "optimizer_T2 = torch.optim.Adam(model2.parameters(), lr=0.001,  weight_decay=1e-5)"
   ]
  },
  {
   "cell_type": "markdown",
   "metadata": {},
   "source": [
    "\n",
    "\n",
    "## 8. Results\n",
    "\n",
    "### Task 1: Smile Detection\n",
    "\n",
    "The smile detection model underwent a comprehensive training for 20 epochs. The training commenced with a loss of 0.607 and remarkably reduced to a minuscule 0.000156 by the end. This sharp decline signifies the model’s increasing proficiency in identifying smiling faces. The validation loss exhibited fluctuations, peaking initially at 1.34 and eventually steadying. This behavior suggested an initial tendency towards overfitting, which was later corrected as the model learned to generalize better.\n",
    "\n",
    "The model's efficacy was most pronounced in the testing phase, where it achieved an accuracy of 94%. The test loss stood at 0.3988 with the high accuracy. The normalized confusion matrix further display the model's competence, displaying a substantial number of true positives and negatives, indicating accurate classifications.\n",
    "\n",
    "### Task 2: Head Pose Estimation\n",
    "\n",
    "**Note that due to the amplification of labels here, the loss on the line chart is two orders of magnitude higher than in the test stage.**\n",
    "\n",
    "For head pose estimation, the model was also trained  20 epochs. Training loss showed a downward trend from 1.98 to 0.122, and validation loss improved from 7.59 to 0.563, suggesting progressive learning. Notably, the validation loss was initially high due to the amplification of labels, but it adjusted over time, reflecting the model’s adaptation.\n",
    "\n",
    "The testing phase yielded encouraging results with a Mean Squared Error (MSE) of 0.006310, a Mean Absolute Error (MAE) of 0.056345, and a Root Mean Squared Error (RMSE) of 0.079433. These metrics collectively indicate the model's precision in estimating head poses, with small deviation from the actual values.\n",
    "\n",
    "\n"
   ]
  },
  {
   "cell_type": "code",
   "execution_count": 197,
   "metadata": {},
   "outputs": [
    {
     "name": "stdout",
     "output_type": "stream",
     "text": [
      "---------------------T1 TRAIN START--------------------\n"
     ]
    },
    {
     "name": "stderr",
     "output_type": "stream",
     "text": [
      "Epoch 1/20 [Training]: 100%|██████████| 13/13 [00:03<00:00,  3.34it/s, Train Loss=0.607]\n",
      "Validating: 100%|██████████| 2/2 [00:00<00:00,  6.32it/s, Validation Loss=1.34]\n"
     ]
    },
    {
     "name": "stdout",
     "output_type": "stream",
     "text": [
      "Accuracy: 0.80\n"
     ]
    },
    {
     "name": "stderr",
     "output_type": "stream",
     "text": [
      "Epoch 2/20 [Training]: 100%|██████████| 13/13 [00:03<00:00,  3.83it/s, Train Loss=0.252]\n",
      "Validating: 100%|██████████| 2/2 [00:00<00:00,  5.74it/s, Validation Loss=0.537]\n"
     ]
    },
    {
     "name": "stdout",
     "output_type": "stream",
     "text": [
      "Accuracy: 0.88\n"
     ]
    },
    {
     "name": "stderr",
     "output_type": "stream",
     "text": [
      "Epoch 3/20 [Training]: 100%|██████████| 13/13 [00:03<00:00,  3.74it/s, Train Loss=0.116]\n",
      "Validating: 100%|██████████| 2/2 [00:00<00:00,  5.82it/s, Validation Loss=0.218]\n"
     ]
    },
    {
     "name": "stdout",
     "output_type": "stream",
     "text": [
      "Accuracy: 0.93\n"
     ]
    },
    {
     "name": "stderr",
     "output_type": "stream",
     "text": [
      "Epoch 4/20 [Training]: 100%|██████████| 13/13 [00:03<00:00,  3.85it/s, Train Loss=0.0455]\n",
      "Validating: 100%|██████████| 2/2 [00:00<00:00,  6.52it/s, Validation Loss=0.227]\n"
     ]
    },
    {
     "name": "stdout",
     "output_type": "stream",
     "text": [
      "Accuracy: 0.92\n"
     ]
    },
    {
     "name": "stderr",
     "output_type": "stream",
     "text": [
      "Epoch 5/20 [Training]: 100%|██████████| 13/13 [00:03<00:00,  3.90it/s, Train Loss=0.0169]\n",
      "Validating: 100%|██████████| 2/2 [00:00<00:00,  6.08it/s, Validation Loss=0.402]\n"
     ]
    },
    {
     "name": "stdout",
     "output_type": "stream",
     "text": [
      "Accuracy: 0.90\n"
     ]
    },
    {
     "name": "stderr",
     "output_type": "stream",
     "text": [
      "Epoch 6/20 [Training]: 100%|██████████| 13/13 [00:03<00:00,  3.90it/s, Train Loss=0.0334]\n",
      "Validating: 100%|██████████| 2/2 [00:00<00:00,  5.88it/s, Validation Loss=0.363]\n"
     ]
    },
    {
     "name": "stdout",
     "output_type": "stream",
     "text": [
      "Accuracy: 0.90\n"
     ]
    },
    {
     "name": "stderr",
     "output_type": "stream",
     "text": [
      "Epoch 7/20 [Training]: 100%|██████████| 13/13 [00:03<00:00,  4.06it/s, Train Loss=0.0352]\n",
      "Validating: 100%|██████████| 2/2 [00:00<00:00,  6.69it/s, Validation Loss=0.284]\n"
     ]
    },
    {
     "name": "stdout",
     "output_type": "stream",
     "text": [
      "Accuracy: 0.92\n"
     ]
    },
    {
     "name": "stderr",
     "output_type": "stream",
     "text": [
      "Epoch 8/20 [Training]: 100%|██████████| 13/13 [00:03<00:00,  3.98it/s, Train Loss=0.0141]\n",
      "Validating: 100%|██████████| 2/2 [00:00<00:00,  5.59it/s, Validation Loss=0.421]\n"
     ]
    },
    {
     "name": "stdout",
     "output_type": "stream",
     "text": [
      "Accuracy: 0.89\n"
     ]
    },
    {
     "name": "stderr",
     "output_type": "stream",
     "text": [
      "Epoch 9/20 [Training]: 100%|██████████| 13/13 [00:03<00:00,  3.94it/s, Train Loss=0.0118] \n",
      "Validating: 100%|██████████| 2/2 [00:00<00:00,  6.26it/s, Validation Loss=0.341]\n"
     ]
    },
    {
     "name": "stdout",
     "output_type": "stream",
     "text": [
      "Accuracy: 0.93\n"
     ]
    },
    {
     "name": "stderr",
     "output_type": "stream",
     "text": [
      "Epoch 10/20 [Training]: 100%|██████████| 13/13 [00:03<00:00,  3.76it/s, Train Loss=0.00557]\n",
      "Validating: 100%|██████████| 2/2 [00:00<00:00,  5.92it/s, Validation Loss=0.368]\n"
     ]
    },
    {
     "name": "stdout",
     "output_type": "stream",
     "text": [
      "Accuracy: 0.90\n"
     ]
    },
    {
     "name": "stderr",
     "output_type": "stream",
     "text": [
      "Epoch 11/20 [Training]: 100%|██████████| 13/13 [00:03<00:00,  3.62it/s, Train Loss=0.00335]\n",
      "Validating: 100%|██████████| 2/2 [00:00<00:00,  6.20it/s, Validation Loss=0.316]\n"
     ]
    },
    {
     "name": "stdout",
     "output_type": "stream",
     "text": [
      "Accuracy: 0.93\n"
     ]
    },
    {
     "name": "stderr",
     "output_type": "stream",
     "text": [
      "Epoch 12/20 [Training]: 100%|██████████| 13/13 [00:03<00:00,  3.91it/s, Train Loss=0.00108]\n",
      "Validating: 100%|██████████| 2/2 [00:00<00:00,  6.25it/s, Validation Loss=0.337]\n"
     ]
    },
    {
     "name": "stdout",
     "output_type": "stream",
     "text": [
      "Accuracy: 0.92\n"
     ]
    },
    {
     "name": "stderr",
     "output_type": "stream",
     "text": [
      "Epoch 13/20 [Training]: 100%|██████████| 13/13 [00:03<00:00,  3.76it/s, Train Loss=0.000561]\n",
      "Validating: 100%|██████████| 2/2 [00:00<00:00,  6.12it/s, Validation Loss=0.359]\n"
     ]
    },
    {
     "name": "stdout",
     "output_type": "stream",
     "text": [
      "Accuracy: 0.92\n"
     ]
    },
    {
     "name": "stderr",
     "output_type": "stream",
     "text": [
      "Epoch 14/20 [Training]: 100%|██████████| 13/13 [00:03<00:00,  3.87it/s, Train Loss=0.000284]\n",
      "Validating: 100%|██████████| 2/2 [00:00<00:00,  6.13it/s, Validation Loss=0.345]\n"
     ]
    },
    {
     "name": "stdout",
     "output_type": "stream",
     "text": [
      "Accuracy: 0.92\n"
     ]
    },
    {
     "name": "stderr",
     "output_type": "stream",
     "text": [
      "Epoch 15/20 [Training]: 100%|██████████| 13/13 [00:03<00:00,  3.92it/s, Train Loss=0.000201]\n",
      "Validating: 100%|██████████| 2/2 [00:00<00:00,  6.11it/s, Validation Loss=0.345]\n"
     ]
    },
    {
     "name": "stdout",
     "output_type": "stream",
     "text": [
      "Accuracy: 0.92\n"
     ]
    },
    {
     "name": "stderr",
     "output_type": "stream",
     "text": [
      "Epoch 16/20 [Training]: 100%|██████████| 13/13 [00:03<00:00,  3.86it/s, Train Loss=0.000191]\n",
      "Validating: 100%|██████████| 2/2 [00:00<00:00,  6.25it/s, Validation Loss=0.347]\n"
     ]
    },
    {
     "name": "stdout",
     "output_type": "stream",
     "text": [
      "Accuracy: 0.92\n"
     ]
    },
    {
     "name": "stderr",
     "output_type": "stream",
     "text": [
      "Epoch 17/20 [Training]: 100%|██████████| 13/13 [00:03<00:00,  3.88it/s, Train Loss=0.000184]\n",
      "Validating: 100%|██████████| 2/2 [00:00<00:00,  6.28it/s, Validation Loss=0.349]\n"
     ]
    },
    {
     "name": "stdout",
     "output_type": "stream",
     "text": [
      "Accuracy: 0.92\n"
     ]
    },
    {
     "name": "stderr",
     "output_type": "stream",
     "text": [
      "Epoch 18/20 [Training]: 100%|██████████| 13/13 [00:03<00:00,  3.90it/s, Train Loss=0.000155]\n",
      "Validating: 100%|██████████| 2/2 [00:00<00:00,  5.80it/s, Validation Loss=0.352]\n"
     ]
    },
    {
     "name": "stdout",
     "output_type": "stream",
     "text": [
      "Accuracy: 0.92\n"
     ]
    },
    {
     "name": "stderr",
     "output_type": "stream",
     "text": [
      "Epoch 19/20 [Training]: 100%|██████████| 13/13 [00:03<00:00,  3.84it/s, Train Loss=0.000154]\n",
      "Validating: 100%|██████████| 2/2 [00:00<00:00,  6.06it/s, Validation Loss=0.353]\n"
     ]
    },
    {
     "name": "stdout",
     "output_type": "stream",
     "text": [
      "Accuracy: 0.92\n"
     ]
    },
    {
     "name": "stderr",
     "output_type": "stream",
     "text": [
      "Epoch 20/20 [Training]: 100%|██████████| 13/13 [00:03<00:00,  3.84it/s, Train Loss=0.000156]\n",
      "Validating: 100%|██████████| 2/2 [00:00<00:00,  6.24it/s, Validation Loss=0.355]\n"
     ]
    },
    {
     "name": "stdout",
     "output_type": "stream",
     "text": [
      "Accuracy: 0.93\n",
      "---------------------TRAIN OVER--------------------\n"
     ]
    },
    {
     "name": "stderr",
     "output_type": "stream",
     "text": [
      "Testing: 100%|██████████| 2/2 [00:00<00:00,  6.01it/s, Test Loss=0.399]\n"
     ]
    },
    {
     "name": "stdout",
     "output_type": "stream",
     "text": [
      "Test Loss: 0.3988, Test Accuracy: 0.94\n"
     ]
    },
    {
     "data": {
      "image/png": "[encoded data removed]",
      "text/plain": [
       "<Figure size 800x600 with 2 Axes>"
      ]
     },
     "metadata": {},
     "output_type": "display_data"
    },
    {
     "data": {
      "image/png": "[encoded data removed]",
      "text/plain": [
       "<Figure size 1000x500 with 1 Axes>"
      ]
     },
     "metadata": {},
     "output_type": "display_data"
    },
    {
     "data": {
      "image/png": "[encoded data removed]",
      "text/plain": [
       "<Figure size 1000x500 with 1 Axes>"
      ]
     },
     "metadata": {},
     "output_type": "display_data"
    },
    {
     "name": "stdout",
     "output_type": "stream",
     "text": [
      "---------------------T2 TRAIN START--------------------\n"
     ]
    },
    {
     "name": "stderr",
     "output_type": "stream",
     "text": [
      "Epoch 1/20 [Training]: 100%|██████████| 13/13 [00:03<00:00,  3.84it/s, Train Loss=1.98]\n",
      "Validating: 100%|██████████| 2/2 [00:00<00:00,  5.96it/s, Validation Loss=7.59]\n",
      "Epoch 2/20 [Training]: 100%|██████████| 13/13 [00:03<00:00,  3.66it/s, Train Loss=0.815]\n",
      "Validating: 100%|██████████| 2/2 [00:00<00:00,  5.46it/s, Validation Loss=1.41]\n",
      "Epoch 3/20 [Training]: 100%|██████████| 13/13 [00:03<00:00,  3.76it/s, Train Loss=0.588]\n",
      "Validating: 100%|██████████| 2/2 [00:00<00:00,  5.83it/s, Validation Loss=0.641]\n",
      "Epoch 4/20 [Training]: 100%|██████████| 13/13 [00:03<00:00,  3.88it/s, Train Loss=0.429]\n",
      "Validating: 100%|██████████| 2/2 [00:00<00:00,  6.15it/s, Validation Loss=0.701]\n",
      "Epoch 5/20 [Training]: 100%|██████████| 13/13 [00:03<00:00,  3.96it/s, Train Loss=0.357]\n",
      "Validating: 100%|██████████| 2/2 [00:00<00:00,  5.81it/s, Validation Loss=0.694]\n",
      "Epoch 6/20 [Training]: 100%|██████████| 13/13 [00:03<00:00,  3.91it/s, Train Loss=0.271]\n",
      "Validating: 100%|██████████| 2/2 [00:00<00:00,  6.43it/s, Validation Loss=0.691]\n",
      "Epoch 7/20 [Training]: 100%|██████████| 13/13 [00:03<00:00,  4.01it/s, Train Loss=0.237]\n",
      "Validating: 100%|██████████| 2/2 [00:00<00:00,  6.50it/s, Validation Loss=0.681]\n",
      "Epoch 8/20 [Training]: 100%|██████████| 13/13 [00:03<00:00,  3.74it/s, Train Loss=0.22] \n",
      "Validating: 100%|██████████| 2/2 [00:00<00:00,  6.16it/s, Validation Loss=0.692]\n",
      "Epoch 9/20 [Training]: 100%|██████████| 13/13 [00:03<00:00,  3.85it/s, Train Loss=0.193]\n",
      "Validating: 100%|██████████| 2/2 [00:00<00:00,  5.68it/s, Validation Loss=0.609]\n",
      "Epoch 10/20 [Training]: 100%|██████████| 13/13 [00:03<00:00,  3.79it/s, Train Loss=0.201]\n",
      "Validating: 100%|██████████| 2/2 [00:00<00:00,  5.74it/s, Validation Loss=0.784]\n",
      "Epoch 11/20 [Training]: 100%|██████████| 13/13 [00:03<00:00,  3.79it/s, Train Loss=0.178]\n",
      "Validating: 100%|██████████| 2/2 [00:00<00:00,  6.11it/s, Validation Loss=0.704]\n",
      "Epoch 12/20 [Training]: 100%|██████████| 13/13 [00:03<00:00,  3.84it/s, Train Loss=0.18] \n",
      "Validating: 100%|██████████| 2/2 [00:00<00:00,  6.21it/s, Validation Loss=0.604]\n",
      "Epoch 13/20 [Training]: 100%|██████████| 13/13 [00:03<00:00,  3.84it/s, Train Loss=0.187]\n",
      "Validating: 100%|██████████| 2/2 [00:00<00:00,  6.21it/s, Validation Loss=0.649]\n",
      "Epoch 14/20 [Training]: 100%|██████████| 13/13 [00:03<00:00,  3.83it/s, Train Loss=0.164]\n",
      "Validating: 100%|██████████| 2/2 [00:00<00:00,  5.99it/s, Validation Loss=0.667]\n",
      "Epoch 15/20 [Training]: 100%|██████████| 13/13 [00:03<00:00,  3.83it/s, Train Loss=0.154]\n",
      "Validating: 100%|██████████| 2/2 [00:00<00:00,  6.11it/s, Validation Loss=0.633]\n",
      "Epoch 16/20 [Training]: 100%|██████████| 13/13 [00:03<00:00,  3.87it/s, Train Loss=0.152]\n",
      "Validating: 100%|██████████| 2/2 [00:00<00:00,  5.95it/s, Validation Loss=0.582]\n",
      "Epoch 17/20 [Training]: 100%|██████████| 13/13 [00:03<00:00,  3.79it/s, Train Loss=0.152]\n",
      "Validating: 100%|██████████| 2/2 [00:00<00:00,  6.35it/s, Validation Loss=0.603]\n",
      "Epoch 18/20 [Training]: 100%|██████████| 13/13 [00:03<00:00,  3.83it/s, Train Loss=0.134]\n",
      "Validating: 100%|██████████| 2/2 [00:00<00:00,  5.94it/s, Validation Loss=0.613]\n",
      "Epoch 19/20 [Training]: 100%|██████████| 13/13 [00:03<00:00,  3.80it/s, Train Loss=0.14] \n",
      "Validating: 100%|██████████| 2/2 [00:00<00:00,  6.27it/s, Validation Loss=0.645]\n",
      "Epoch 20/20 [Training]: 100%|██████████| 13/13 [00:03<00:00,  3.81it/s, Train Loss=0.122]\n",
      "Validating: 100%|██████████| 2/2 [00:00<00:00,  6.07it/s, Validation Loss=0.563]\n"
     ]
    },
    {
     "name": "stdout",
     "output_type": "stream",
     "text": [
      "---------------------TRAIN OVER--------------------\n"
     ]
    },
    {
     "name": "stderr",
     "output_type": "stream",
     "text": [
      "Testing: 100%|██████████| 2/2 [00:00<00:00,  6.09it/s, Test Loss=0.646]\n"
     ]
    },
    {
     "name": "stdout",
     "output_type": "stream",
     "text": [
      "Test Loss: 0.64632732, MSE: 0.006310, MAE: 0.056345, RMSE: 0.079433\n"
     ]
    },
    {
     "data": {
      "image/png": "[encoded data removed]",
      "text/plain": [
       "<Figure size 1200x600 with 1 Axes>"
      ]
     },
     "metadata": {},
     "output_type": "display_data"
    }
   ],
   "source": [
    "import matplotlib.pyplot as plt\n",
    "from sklearn.metrics import confusion_matrix\n",
    "import seaborn as sns\n",
    "import numpy as np\n",
    "\n",
    "train_losses_T1 = []\n",
    "valid_losses_T1 = []\n",
    "accuracies = []\n",
    "\n",
    "print(f'---------------------T1 TRAIN START--------------------')\n",
    "num_epochs = 20  \n",
    "for epoch in range(num_epochs):\n",
    "    model.train()  # train model\n",
    "    train_loss = 0.0\n",
    "    progress_bar = tqdm(train_loader_T1, desc=f'Epoch {epoch+1}/{num_epochs} [Training]')\n",
    "    for batch in progress_bar:\n",
    "        if batch is None or batch[0] is None:\n",
    "            continue  \n",
    "        imgs, labels = batch\n",
    "        imgs, labels = imgs.to(device), labels.to(device)\n",
    "        optimizer_T1.zero_grad()\n",
    "        outputs = model(imgs).squeeze(1)\n",
    "        loss = criterion_T1(outputs, labels)\n",
    "        loss.backward()\n",
    "        optimizer_T1.step()\n",
    "        train_loss += loss.item()\n",
    "        progress_bar.set_postfix({'Train Loss': train_loss / (progress_bar.n + 1)})\n",
    "    train_loss /= len(train_loader_T1)\n",
    "    train_losses_T1.append(train_loss)\n",
    "    scheduler.step()\n",
    "\n",
    "\n",
    "\n",
    "# valid the model\n",
    "    model.eval()  \n",
    "    valid_loss = 0.0\n",
    "    correct_smiles = 0\n",
    "    total_smiles = 0\n",
    "    with tqdm(valid_loader_T1, desc='Validating') as progress_bar:\n",
    "        for batch in progress_bar:\n",
    "            if batch is None or batch[0] is None:\n",
    "                continue  \n",
    "            imgs, labels = batch\n",
    "            imgs, labels = imgs.to(device), labels.to(device)\n",
    "            with torch.no_grad():\n",
    "                outputs = model(imgs).squeeze(1)\n",
    "                loss = criterion_T1(outputs, labels)\n",
    "                valid_loss += loss.item()\n",
    "                predicted_smiles = torch.sigmoid(outputs) > 0.5\n",
    "                correct_smiles += (predicted_smiles == labels.bool()).sum().item()\n",
    "                total_smiles += labels.size(0)\n",
    "                progress_bar.set_postfix({'Validation Loss': valid_loss / (progress_bar.n + 1)})\n",
    "    valid_loss /= len(valid_loader_T1)\n",
    "    accuracy = correct_smiles / total_smiles\n",
    "    valid_losses_T1.append(valid_loss)\n",
    "    accuracies.append(accuracy)\n",
    "\n",
    "    print(f'Accuracy: {accuracy:.2f}')\n",
    "\n",
    "# save the model parameters\n",
    "torch.save(model.state_dict(), 'model_smile.pth')\n",
    "print(f'---------------------TRAIN OVER--------------------')\n",
    "\n",
    "# test model\n",
    "def test_model(model, test_loader, device, criterion):\n",
    "    model.eval() \n",
    "    test_loss = 0.0\n",
    "    correct_smiles = 0\n",
    "    total_smiles = 0\n",
    "    all_labels = []\n",
    "    all_predictions = []\n",
    "    \n",
    "    with tqdm(test_loader, desc='Testing') as progress_bar:\n",
    "        for batch in progress_bar:\n",
    "            if batch is None or batch[0] is None:\n",
    "                continue  \n",
    "            imgs, labels = batch\n",
    "            imgs, labels = imgs.to(device), labels.to(device)\n",
    "            with torch.no_grad():\n",
    "                outputs = model(imgs).squeeze(1)\n",
    "                loss = criterion(outputs, labels)\n",
    "                test_loss += loss.item()\n",
    "                predicted_smiles = torch.sigmoid(outputs) > 0.5\n",
    "                correct_smiles += (predicted_smiles == labels.bool()).sum().item()\n",
    "                total_smiles += labels.size(0)\n",
    "                \n",
    "                all_labels.extend(labels.cpu().tolist())\n",
    "                all_predictions.extend(predicted_smiles.cpu().tolist())\n",
    "                \n",
    "                progress_bar.set_postfix({'Test Loss': test_loss / (progress_bar.n + 1)})\n",
    "    \n",
    "    test_loss /= len(test_loader)\n",
    "    accuracy = correct_smiles / total_smiles\n",
    "    print(f'Test Loss: {test_loss:.4f}, Test Accuracy: {accuracy:.2f}')\n",
    "    \n",
    "    cm = confusion_matrix(all_labels, all_predictions)\n",
    "    cm_normalized = cm.astype('float') / cm.sum(axis=1)[:, np.newaxis]\n",
    "    \n",
    "    # draw confusion matrix\n",
    "    plt.figure(figsize=(8, 6))\n",
    "    sns.heatmap(cm_normalized, annot=True, fmt=\".2f\", cmap='Blues', xticklabels=['Non-Smile', 'Smile'], yticklabels=['Non-Smile', 'Smile'])\n",
    "    plt.ylabel('True Label')\n",
    "    plt.xlabel('Predicted Label')\n",
    "    plt.title('Confusion Matrix (Normalized)')\n",
    "    plt.savefig('confusion_matrix.png')\n",
    "    plt.show()\n",
    "\n",
    "    return accuracy, test_loss\n",
    "\n",
    "test_model(model, test_loader_T1, device, criterion_T1)\n",
    "\n",
    "# draw train loss and valid loss\n",
    "plt.figure(figsize=(10, 5))\n",
    "plt.plot(train_losses_T1, label='Training Loss')\n",
    "plt.plot(valid_losses_T1, label='Validation Loss')\n",
    "plt.title('Training and Validation Loss')\n",
    "plt.xlabel('Epochs')\n",
    "plt.ylabel('Loss')\n",
    "plt.legend()\n",
    "plt.savefig('loss_plot_T1.png')  \n",
    "plt.show()\n",
    "\n",
    "# draw accuracy\n",
    "plt.figure(figsize=(10, 5))\n",
    "plt.plot(accuracies, label='Accuracy')\n",
    "plt.title('Training Accuracy')\n",
    "plt.xlabel('Epochs')\n",
    "plt.ylabel('Accuracy')\n",
    "plt.legend()\n",
    "plt.savefig('accuracy_plot_T1.png') \n",
    "plt.show()\n",
    "\n",
    "\n",
    "train_losses_T2 = []\n",
    "valid_losses_T2 = []\n",
    "\n",
    "# train\n",
    "print(f'---------------------T2 TRAIN START--------------------')\n",
    "num_epochs = 20  \n",
    "for epoch in range(num_epochs):\n",
    "    model2.train()\n",
    "    train_loss = 0.0\n",
    "    progress_bar = tqdm(train_loader_T2, desc=f'Epoch {epoch+1}/{num_epochs} [Training]')\n",
    "    for batch in progress_bar:\n",
    "        if batch is None or batch[0] is None:\n",
    "            continue\n",
    "        imgs, labels = batch\n",
    "        imgs, labels = imgs.to(device), labels.to(device)\n",
    "        optimizer_T2.zero_grad()\n",
    "        outputs = model2(imgs)\n",
    "        loss = criterion_T2(outputs, labels)\n",
    "        loss.backward()\n",
    "        optimizer_T2.step()\n",
    "        train_loss += loss.item()\n",
    "        progress_bar.set_postfix({'Train Loss': train_loss / (progress_bar.n + 1)})\n",
    "    train_loss /= len(train_loader_T2)\n",
    "    train_losses_T2.append(train_loss)\n",
    "    scheduler.step()\n",
    "\n",
    "    # valid the model\n",
    "    model2.eval()\n",
    "    valid_loss = 0.0\n",
    "    with tqdm(valid_loader_T2, desc='Validating') as progress_bar:\n",
    "        for batch in progress_bar:\n",
    "            if batch is None or batch[0] is None:\n",
    "                continue\n",
    "            imgs, labels = batch\n",
    "            imgs, labels = imgs.to(device), labels.to(device)\n",
    "            with torch.no_grad():\n",
    "                outputs = model2(imgs)\n",
    "                loss = criterion_T2(outputs, labels)\n",
    "                valid_loss += loss.item()\n",
    "            progress_bar.set_postfix({'Validation Loss': valid_loss / (progress_bar.n + 1)})\n",
    "        valid_loss /= len(valid_loader_T2)\n",
    "        valid_losses_T2.append(valid_loss)\n",
    "\n",
    "\n",
    "\n",
    "\n",
    "# save\n",
    "torch.save(model2.state_dict(), 'model_dir.pth')\n",
    "print(f'---------------------TRAIN OVER--------------------')\n",
    "\n",
    "# test and caculate MSE、MAE和RMSE\n",
    "def test_model_with_metrics(model, test_loader_T2, device, criterion_T2):\n",
    "    model.eval()\n",
    "    test_loss = 0.0\n",
    "    total_mae = 0.0\n",
    "    total_mse = 0.0\n",
    "    total_samples = 0\n",
    "    with tqdm(test_loader_T2, desc='Testing') as progress_bar:\n",
    "        for batch in progress_bar:\n",
    "            if batch is None or batch[0] is None:\n",
    "                continue\n",
    "            imgs, labels = batch\n",
    "            imgs, labels = imgs.to(device), labels.to(device)\n",
    "            with torch.no_grad():\n",
    "                outputs = model(imgs)\n",
    "\n",
    "                loss = criterion_T2(outputs, labels)\n",
    "                test_loss += loss.item() \n",
    "\n",
    "                outputs_rescaled = outputs / 10\n",
    "                labels_rescaled = labels / 10\n",
    "\n",
    "                mse = torch.mean((outputs_rescaled - labels_rescaled) ** 2, dim=1)\n",
    "                total_mse += mse.sum().item()\n",
    "\n",
    "                mae = torch.mean(torch.abs(outputs_rescaled - labels_rescaled), dim=1)\n",
    "                total_mae += mae.sum().item()\n",
    "\n",
    "                total_samples += labels.size(0)\n",
    "\n",
    "            progress_bar.set_postfix({'Test Loss': test_loss / (progress_bar.n + 1)})\n",
    "    test_loss /= len(test_loader_T2)\n",
    "    average_mse = total_mse / total_samples\n",
    "    average_mae = total_mae / total_samples\n",
    "    rmse = torch.sqrt(torch.tensor(average_mse))\n",
    "    print(f'Test Loss: {test_loss:.8f}, MSE: {average_mse:.6f}, MAE: {average_mae:.6f}, RMSE: {rmse:.6f}')\n",
    "\n",
    "\n",
    "test_model_with_metrics(model2, test_loader_T2, device, criterion_T2)\n",
    "\n",
    "\n",
    "# draw valid loss and train loss\n",
    "plt.figure(figsize=(12, 6))\n",
    "plt.plot(train_losses_T2, label='Training Loss')\n",
    "plt.plot(valid_losses_T2, label='Validation Loss')\n",
    "plt.title('Training and Validation Loss')\n",
    "plt.xlabel('Epochs')\n",
    "plt.ylabel('Loss')\n",
    "plt.legend()\n",
    "plt.grid(True)\n",
    "plt.savefig('training_validation_loss_T2.png')\n",
    "plt.show()"
   ]
  },
  {
   "cell_type": "markdown",
   "metadata": {},
   "source": [
    "## 9 Conclusions\n",
    "\n",
    "In this project, we successfully developed and evaluated models for two distinct tasks: smile detection and head pose estimation. The results from both tasks provide a strong testament to the efficacy of deep learning techniques in image processing and analysis.\n",
    "\n",
    "The smile detection task, leveraging a fine-tuned ResNet-18 model, achieved an impressive accuracy of 94%. This high level of accuracy demonstrates the model's effectiveness in recognizing facial expressions across diverse images. For head pose estimation, the model also exhibited commendable accuracy, as indicated by low MSE, MAE, and RMSE values. \n",
    "\n",
    "Through this project, the importance of proper preprocessing techniques, like facial detection and cropping using MTCNN, was underscored. It became evident that such preprocessing steps are crucial for enhancing model performance. Regular validation during training phases proved instrumental in preventing overfitting and ensuring generalization to new data.\n",
    "\n",
    "There are several avenues for further improvement and exploration. Enriching the dataset with more varied expressions and head orientations can enhance the robustness of the models. Experimenting with different neural network architectures and conducting a systematic search for optimal hyperparameters might yield even better results. \n"
   ]
  }
 ],
 "metadata": {
  "kernelspec": {
   "display_name": "venv",
   "language": "python",
   "name": "python3"
  },
  "language_info": {
   "codemirror_mode": {
    "name": "ipython",
    "version": 3
   },
   "file_extension": ".py",
   "mimetype": "text/x-python",
   "name": "python",
   "nbconvert_exporter": "python",
   "pygments_lexer": "ipython3",
   "version": "3.10.11"
  }
 },
 "nbformat": 4,
 "nbformat_minor": 2
}
